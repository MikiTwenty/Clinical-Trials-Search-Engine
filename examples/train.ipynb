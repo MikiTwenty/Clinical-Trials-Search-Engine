{
 "cells": [
  {
   "cell_type": "markdown",
   "metadata": {},
   "source": [
    "# Unieversity of Pavia\n",
    "## Artificial Intelligence BSc\n",
    "### Information Retrieval and Recommender Systems\n",
    "\n",
    "### Authors:\n",
    " - Michele Ventimiglia\n",
    " - Manuel Dellabona\n",
    "\n",
    "This script is part of the Clinic Trials SE project and is released under the GNU General Public License:\n",
    "https://www.gnu.org/licenses/gpl-3.0.html#license-text"
   ]
  },
  {
   "cell_type": "markdown",
   "metadata": {},
   "source": [
    "## Setup"
   ]
  },
  {
   "cell_type": "code",
   "execution_count": null,
   "metadata": {},
   "outputs": [],
   "source": [
    "from _setup import check\n",
    "check(verbose=True)"
   ]
  },
  {
   "cell_type": "markdown",
   "metadata": {},
   "source": [
    "### Requirements"
   ]
  },
  {
   "cell_type": "code",
   "execution_count": 1,
   "metadata": {},
   "outputs": [],
   "source": [
    "from src.tools.setup import check_requirements\n",
    "check_requirements(\"./requirements.txt\")"
   ]
  },
  {
   "cell_type": "markdown",
   "metadata": {},
   "source": [
    "### Modules"
   ]
  },
  {
   "cell_type": "code",
   "execution_count": 2,
   "metadata": {},
   "outputs": [],
   "source": [
    "import os\n",
    "\n",
    "from src.preprocessing.indexing import Indexer\n",
    "from src.preprocessing.transform import Transformer\n",
    "from src.preprocessing.extract import XMLExtractor, PickleExtractor # for 2021 TREC cds use pickle"
   ]
  },
  {
   "cell_type": "markdown",
   "metadata": {},
   "source": [
    "### Paths"
   ]
  },
  {
   "cell_type": "code",
   "execution_count": 3,
   "metadata": {},
   "outputs": [],
   "source": [
    "DATA_PATH = \"path\\\\to\\\\ClinicalTrialsSE\\\\data\"\n",
    "DATASET21_PATH = \"path\\\\to\\\\ClinicalTrialsSE\\\\data\\\\TREC21\"\n",
    "DATASET22_PATH = \"path\\\\to\\\\ClinicalTrialsSE\\\\data\\\\TREC22\"\n",
    "INDEXING_FILES_PATH = \"path\\\\to\\\\ClinicalTrialsSE\\\\data\\\\index\"\n",
    "JDK_PATH = \"path\\\\to\\\\Java\\\\jdk-21\\\\bin\""
   ]
  },
  {
   "cell_type": "markdown",
   "metadata": {},
   "source": [
    "## Documents conversion"
   ]
  },
  {
   "cell_type": "code",
   "execution_count": 4,
   "metadata": {},
   "outputs": [],
   "source": [
    "pextractor = PickleExtractor()\n",
    "extractor = XMLExtractor()"
   ]
  },
  {
   "cell_type": "code",
   "execution_count": 5,
   "metadata": {},
   "outputs": [],
   "source": [
    "if __name__ == '__main__':\n",
    "    raw_documents = pextractor.process_data(\n",
    "        file_path = os.path.join(DATA_PATH, 'TREC21.pkl'),\n",
    "        save_path = DATASET21_PATH,  # be careful when setting, a lot of files will be generated!\n",
    "        save = False,\n",
    "        n_max = -1  # set -1 to process all documents (time and resource expensive!)\n",
    "    )"
   ]
  },
  {
   "cell_type": "code",
   "execution_count": 6,
   "metadata": {},
   "outputs": [],
   "source": [
    "# if __name__ == '__main__':\n",
    "#     raw_documents = extractor.process_docs(\n",
    "#         folder_path = DATASET_PATH,\n",
    "#         parallel_processing = True\n",
    "#     )"
   ]
  },
  {
   "cell_type": "code",
   "execution_count": 7,
   "metadata": {},
   "outputs": [
    {
     "data": {
      "text/plain": [
       "{'docno': 'NCT00976963',\n",
       " 'text': \"NCT00976963 Single Dose Monurol for Treatment of Acute Cystitis Single Dose Monurol for Treatment of Acute Cystitis Urinary tract infecton (UTI) is a very common problem in young healthy women, afflicting\\r\\n      approximately one-half of women by their late 20's. One of the most common antibiotics used\\r\\n      to treat UTIs is Trimethoprim-sulfa (TMP-SMX), usually for total of three days. However,\\r\\n      concerns about increased antibiotic resistance have led to increased interest in studying\\r\\n      other antibiotics for UTI.\\r\\n\\r\\n      An alternative antibiotic which is also FDA approved for the treatment of UTIs is fosfomycin\\r\\n      (Monurol). The effectiveness of fosfomycin in curing UTIs when given as a single dose is not\\r\\n      well studied. The purpose of this research study is to determine what the cure rates are with\\r\\n      a single dose of fosfomycin versus the more standard 3-day course of TMP-SMX. Procedures subjects will undergo once they have read and signed the consent are:\\r\\n\\r\\n      Questions about their medical and sexual history and current symptoms of UTI. They will be\\r\\n      asked to provide a urine and peri-urethral sample and then are randomly assigned to one of\\r\\n      the two treatment groups.They will be given a sheet to record symptoms at home. They will be\\r\\n      asked to return to the clinic in 5-8 and 28-30 days after completing antibiotic\\r\\n      therapy.Follow-up questions will be asked and urine and peri-urethral will be self collected\\r\\n      at each visit. Interventional Treatment Urinary Tract Infection Drug Fosfomycin University of Washington UTI Urinary Tract Infections Fosfomycin Inclusion Criteria:\\r\\n\\r\\n          -  Non pregnant women in good health with symptoms of acute cystitis for less than 7 days\\r\\n\\r\\n        Exclusion Criteria:\\r\\n\\r\\n          -  Pregnant, lactating, or not regularly contracepting\\r\\n\\r\\n          -  History of chronic conditions such as diabetes\\r\\n\\r\\n          -  Known anatomic abnormalities of the urinary tract\\r\\n\\r\\n          -  Use of prophylactic antibiotics\\r\\n\\r\\n          -  History of allergy or intolerance to any of the study drugs\\r\\n\\r\\n          -  Recent (> 2 weeks)exposure to oral or parenteral antimicrobial\\r\\n\\r\\n          -  History of UTI in previous 1 month :\\r\\n\\r\\n          -  Non pregnant women in good health with symptoms of acute cystitis for less than 7 days :\\r\\n\\r\\n          -  Pregnant, lactating, or not regularly contracepting\\r\\n\\r\\n          -  History of chronic conditions such as diabetes\\r\\n\\r\\n          -  Known anatomic abnormalities of the urinary tract\\r\\n\\r\\n          -  Use of prophylactic antibiotics\\r\\n\\r\\n          -  History of allergy or intolerance to any of the study drugs\\r\\n\\r\\n          -  Recent (> 2 weeks)exposure to oral or parenteral antimicrobial\\r\\n\\r\\n          -  History of UTI in previous 1 month Female 18 Years 45 Years Accepts Healthy Volunteers\",\n",
       " 'title': 'Single Dose Monurol for Treatment of Acute Cystitis',\n",
       " 'summary': \"Urinary tract infecton (UTI) is a very common problem in young healthy women, afflicting\\r\\n      approximately one-half of women by their late 20's. One of the most common antibiotics used\\r\\n      to treat UTIs is Trimethoprim-sulfa (TMP-SMX), usually for total of three days. However,\\r\\n      concerns about increased antibiotic resistance have led to increased interest in studying\\r\\n      other antibiotics for UTI.\\r\\n\\r\\n      An alternative antibiotic which is also FDA approved for the treatment of UTIs is fosfomycin\\r\\n      (Monurol). The effectiveness of fosfomycin in curing UTIs when given as a single dose is not\\r\\n      well studied. The purpose of this research study is to determine what the cure rates are with\\r\\n      a single dose of fosfomycin versus the more standard 3-day course of TMP-SMX.\"}"
      ]
     },
     "execution_count": 7,
     "metadata": {},
     "output_type": "execute_result"
    }
   ],
   "source": [
    "raw_documents[0]"
   ]
  },
  {
   "cell_type": "markdown",
   "metadata": {},
   "source": [
    "## Preprocessing"
   ]
  },
  {
   "cell_type": "code",
   "execution_count": 8,
   "metadata": {},
   "outputs": [
    {
     "name": "stdout",
     "output_type": "stream",
     "text": [
      "[i] spaCy v3.7.2\n"
     ]
    }
   ],
   "source": [
    "transformer = Transformer(\n",
    "    save_path = DATA_PATH,\n",
    "    verbose = True\n",
    ")"
   ]
  },
  {
   "cell_type": "code",
   "execution_count": 9,
   "metadata": {},
   "outputs": [
    {
     "name": "stderr",
     "output_type": "stream",
     "text": [
      "                                                                                \r"
     ]
    }
   ],
   "source": [
    "if __name__ == '__main__':\n",
    "    documents = transformer.process_docs(\n",
    "        documents = raw_documents,\n",
    "        parallel_processing = True,\n",
    "        batch_size = 1000\n",
    "    )"
   ]
  },
  {
   "cell_type": "code",
   "execution_count": 12,
   "metadata": {},
   "outputs": [
    {
     "name": "stdout",
     "output_type": "stream",
     "text": [
      "{'docno': 'NCT00976924', 'text': 'general volunteers patient monitoring clinical interventional medical inclusion year function strips glucose blood device pressure range iso15197 strip diagnostic test meter 22 exclusion criteria accept monitor tianjin 78 hospital nct00976924 accuracy healthy university diabetes', 'title': 'Clinical Test of Blood Glucose Test Strips', 'summary': 'Blood glucose test strips are tested with the test meters to test the accuracy of the blood\\r\\n      pressure monitoring function.'}\n"
     ]
    }
   ],
   "source": [
    "documents[0]"
   ]
  },
  {
   "cell_type": "code",
   "execution_count": 13,
   "metadata": {},
   "outputs": [],
   "source": [
    "transformer._save(documents)"
   ]
  },
  {
   "cell_type": "markdown",
   "metadata": {},
   "source": [
    "## Indexing"
   ]
  },
  {
   "cell_type": "code",
   "execution_count": 10,
   "metadata": {},
   "outputs": [
    {
     "name": "stdout",
     "output_type": "stream",
     "text": [
      "[i] Pandas v2.1.3\n",
      "[i] PyTerrier v0.10.0\n"
     ]
    },
    {
     "name": "stderr",
     "output_type": "stream",
     "text": [
      "PyTerrier 0.10.0 has loaded Terrier 5.8 (built by craigm on 2023-11-01 18:05) and terrier-helper 0.0.8\n",
      "\n"
     ]
    }
   ],
   "source": [
    "indexer = Indexer(\n",
    "    jdk_path = JDK_PATH,\n",
    "    file_dir = INDEXING_FILES_PATH,\n",
    "    verbose = True\n",
    ")"
   ]
  },
  {
   "cell_type": "code",
   "execution_count": 11,
   "metadata": {},
   "outputs": [
    {
     "name": "stderr",
     "output_type": "stream",
     "text": [
      " 20%|██        | 76289/375580 [00:58<03:39, 1361.18documents/s]"
     ]
    },
    {
     "name": "stdout",
     "output_type": "stream",
     "text": [
      "22:48:19.341 [main] WARN org.terrier.structures.indexing.Indexer - Adding an empty document to the index (NCT00986635) - further warnings are suppressed\n"
     ]
    },
    {
     "name": "stderr",
     "output_type": "stream",
     "text": [
      "100%|██████████| 375580/375580 [05:01<00:00, 1245.17documents/s]"
     ]
    },
    {
     "name": "stdout",
     "output_type": "stream",
     "text": [
      "22:52:27.524 [main] WARN org.terrier.structures.indexing.Indexer - Indexed 4 empty documents\n"
     ]
    },
    {
     "name": "stderr",
     "output_type": "stream",
     "text": [
      "100%|██████████| 375580/375580 [05:06<00:00, 1225.26documents/s]\n"
     ]
    }
   ],
   "source": [
    "indexer.index(\n",
    "    data = documents,\n",
    "    index_folder = INDEXING_FILES_PATH\n",
    ")"
   ]
  }
 ],
 "metadata": {
  "kernelspec": {
   "display_name": "virtual",
   "language": "python",
   "name": "python3"
  },
  "language_info": {
   "codemirror_mode": {
    "name": "ipython",
    "version": 3
   },
   "file_extension": ".py",
   "mimetype": "text/x-python",
   "name": "python",
   "nbconvert_exporter": "python",
   "pygments_lexer": "ipython3",
   "version": "3.11.6"
  }
 },
 "nbformat": 4,
 "nbformat_minor": 2
}
